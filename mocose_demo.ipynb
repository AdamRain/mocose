{
 "cells": [
  {
   "cell_type": "markdown",
   "id": "5d0bab27",
   "metadata": {},
   "source": [
    "# 1. Training Example"
   ]
  },
  {
   "cell_type": "markdown",
   "id": "37711859",
   "metadata": {},
   "source": [
    "## Step 1.1. Load Dataset"
   ]
  },
  {
   "cell_type": "code",
   "execution_count": 1,
   "id": "1f73abce",
   "metadata": {},
   "outputs": [],
   "source": [
    "from transformers import BertTokenizer\n",
    "from torch.utils.data import DataLoader\n",
    "from datasets import load_from_disk"
   ]
  },
  {
   "cell_type": "code",
   "execution_count": 2,
   "id": "2671fe7b",
   "metadata": {},
   "outputs": [],
   "source": [
    "tokenizer = BertTokenizer.from_pretrained('F:\\\\model\\\\bert-base-uncased')"
   ]
  },
  {
   "cell_type": "code",
   "execution_count": 3,
   "id": "9c2f82da",
   "metadata": {},
   "outputs": [],
   "source": [
    "batch_size=64\n",
    "train_dataset = load_from_disk(\"wiki_for_sts_32\")\n",
    "train_loader = DataLoader(train_dataset, batch_size=batch_size, drop_last = True)"
   ]
  },
  {
   "cell_type": "markdown",
   "id": "b4654fdc",
   "metadata": {},
   "source": [
    "## Setp 1.2. init model"
   ]
  },
  {
   "cell_type": "code",
   "execution_count": 5,
   "id": "25a70d01",
   "metadata": {},
   "outputs": [],
   "source": [
    "from mocose import *"
   ]
  },
  {
   "cell_type": "code",
   "execution_count": 7,
   "id": "724186f4",
   "metadata": {},
   "outputs": [],
   "source": [
    "from transformers import BertConfig"
   ]
  },
  {
   "cell_type": "code",
   "execution_count": 8,
   "id": "280e1a39",
   "metadata": {},
   "outputs": [],
   "source": [
    "config = BertConfig()"
   ]
  },
  {
   "cell_type": "code",
   "execution_count": 9,
   "id": "a8a1aba4",
   "metadata": {},
   "outputs": [],
   "source": [
    "config.out_size=768\n",
    "config.mlp_layers=2\n",
    "config.proj_layers=1"
   ]
  },
  {
   "cell_type": "code",
   "execution_count": 10,
   "id": "f7849050",
   "metadata": {},
   "outputs": [],
   "source": [
    "config.fgsm = 5e-9\n",
    "config.embedding_drop_prob = 0.1\n",
    "config.token_drop_prob = 0\n",
    "config.feature_drop_prob = 0\n",
    "config.token_shuffle = False"
   ]
  },
  {
   "cell_type": "code",
   "execution_count": 11,
   "id": "b9789dd2",
   "metadata": {},
   "outputs": [],
   "source": [
    "config.K = 512\n",
    "config.K_start = 128\n",
    "config.ema_decay = 0.75"
   ]
  },
  {
   "cell_type": "code",
   "execution_count": 12,
   "id": "0f74bec6",
   "metadata": {},
   "outputs": [],
   "source": [
    "model = MoCoSEModel(config)"
   ]
  },
  {
   "cell_type": "code",
   "execution_count": 13,
   "id": "57df9651",
   "metadata": {},
   "outputs": [
    {
     "data": {
      "text/plain": [
       "<All keys matched successfully>"
      ]
     },
     "execution_count": 13,
     "metadata": {},
     "output_type": "execute_result"
    }
   ],
   "source": [
    "model.online_embeddings.load_state_dict(torch.load('F:\\\\model\\\\bert-base-uncased-weights\\\\embeddings.pth'))\n",
    "model.online_encoder.load_state_dict(torch.load('F:\\\\model\\\\bert-base-uncased-weights\\\\encoder.pth'))\n",
    "model.online_pooler.dense.load_state_dict(torch.load('F:\\\\model\\\\bert-base-uncased-weights\\\\pooler_dense.pth'))"
   ]
  },
  {
   "cell_type": "code",
   "execution_count": 14,
   "id": "6e14ac86",
   "metadata": {},
   "outputs": [],
   "source": [
    "model.prepare()"
   ]
  },
  {
   "cell_type": "code",
   "execution_count": 15,
   "id": "a9809e29",
   "metadata": {},
   "outputs": [],
   "source": [
    "model = model.cuda()"
   ]
  },
  {
   "cell_type": "code",
   "execution_count": 16,
   "id": "74059077",
   "metadata": {},
   "outputs": [],
   "source": [
    "non_optimizer_list = [model.target_encoder,model.target_pooler]\n",
    "for layer in non_optimizer_list:\n",
    "    for para in layer.parameters():\n",
    "        para.requires_grad = False"
   ]
  },
  {
   "cell_type": "markdown",
   "id": "00922632",
   "metadata": {},
   "source": [
    "## Step 1.3. set train arguments"
   ]
  },
  {
   "cell_type": "code",
   "execution_count": 17,
   "id": "a3ce9c4e",
   "metadata": {},
   "outputs": [],
   "source": [
    "from mocose_tools import *"
   ]
  },
  {
   "cell_type": "code",
   "execution_count": 19,
   "id": "5b75f571",
   "metadata": {},
   "outputs": [],
   "source": [
    "from transformers.trainer import TrainingArguments"
   ]
  },
  {
   "cell_type": "code",
   "execution_count": 20,
   "id": "a8d83411",
   "metadata": {},
   "outputs": [],
   "source": [
    "args = TrainingArguments(\n",
    "    output_dir = 'F:\\\\trained_model\\\\mocose_base_out\\\\',\n",
    "    evaluation_strategy   = \"steps\",\n",
    "    eval_steps            = 100,\n",
    "    learning_rate         = 3e-5,\n",
    "    num_train_epochs      = 1.0,\n",
    "    weight_decay          = 1e-6,\n",
    "    per_device_train_batch_size = 64,\n",
    "    per_device_eval_batch_size  = 64,\n",
    ")"
   ]
  },
  {
   "cell_type": "code",
   "execution_count": 21,
   "id": "a854e93f",
   "metadata": {},
   "outputs": [
    {
     "name": "stderr",
     "output_type": "stream",
     "text": [
      "W&B installed but not logged in. Run `wandb login` or set the WANDB_API_KEY env variable.\n"
     ]
    }
   ],
   "source": [
    "trainer = MoCoSETrainer(\n",
    "    model=model,\n",
    "    args=args,\n",
    "    train_dataset=train_dataset,\n",
    "    tokenizer=tokenizer,\n",
    ")"
   ]
  },
  {
   "cell_type": "code",
   "execution_count": null,
   "id": "a62e5d17",
   "metadata": {
    "scrolled": true
   },
   "outputs": [],
   "source": [
    "trainer.train()"
   ]
  },
  {
   "cell_type": "markdown",
   "id": "0cd2ce8c",
   "metadata": {},
   "source": [
    "# 2. Eval Model on STS Task"
   ]
  },
  {
   "cell_type": "markdown",
   "id": "0f5c6a20",
   "metadata": {},
   "source": [
    "## Step 2.1. prepare model"
   ]
  },
  {
   "cell_type": "code",
   "execution_count": 1,
   "id": "6f07dd9e",
   "metadata": {},
   "outputs": [],
   "source": [
    "from mocose import *"
   ]
  },
  {
   "cell_type": "code",
   "execution_count": 3,
   "id": "e7e733af",
   "metadata": {},
   "outputs": [],
   "source": [
    "model = MoCoSEModel.from_pretrained('F:\\\\trained_model\\\\77.27')"
   ]
  },
  {
   "cell_type": "code",
   "execution_count": 4,
   "id": "01359ee9",
   "metadata": {},
   "outputs": [],
   "source": [
    "model = model.cuda()"
   ]
  },
  {
   "cell_type": "markdown",
   "id": "fcabdd19",
   "metadata": {},
   "source": [
    "## Step 2.2 evaluate model"
   ]
  },
  {
   "cell_type": "code",
   "execution_count": 5,
   "id": "4469b211",
   "metadata": {},
   "outputs": [],
   "source": [
    "from mocose_tools import *"
   ]
  },
  {
   "cell_type": "code",
   "execution_count": 6,
   "id": "66c72ff2",
   "metadata": {},
   "outputs": [],
   "source": [
    "from transformers import BertTokenizer"
   ]
  },
  {
   "cell_type": "code",
   "execution_count": 7,
   "id": "b6537dc9",
   "metadata": {},
   "outputs": [],
   "source": [
    "tokenizer = BertTokenizer.from_pretrained('F:\\\\model\\\\bert-base-uncased')"
   ]
  },
  {
   "cell_type": "code",
   "execution_count": 8,
   "id": "4b0ecf2d",
   "metadata": {},
   "outputs": [
    {
     "name": "stderr",
     "output_type": "stream",
     "text": [
      "E://Share//jupyterDir//SentEval\\senteval\\sts.py:42: VisibleDeprecationWarning: Creating an ndarray from ragged nested sequences (which is a list-or-tuple of lists-or-tuples-or ndarrays with different lengths or shapes) is deprecated. If you meant to do this, you must specify 'dtype=object' when creating the ndarray.\n",
      "  sent1 = np.array([s.split() for s in sent1])[not_empty_idx]\n",
      "E://Share//jupyterDir//SentEval\\senteval\\sts.py:43: VisibleDeprecationWarning: Creating an ndarray from ragged nested sequences (which is a list-or-tuple of lists-or-tuples-or ndarrays with different lengths or shapes) is deprecated. If you meant to do this, you must specify 'dtype=object' when creating the ndarray.\n",
      "  sent2 = np.array([s.split() for s in sent2])[not_empty_idx]\n",
      "Asking to truncate to max_length but no maximum length is provided and the model has no predefined maximum length. Default to no truncation.\n"
     ]
    },
    {
     "name": "stdout",
     "output_type": "stream",
     "text": [
      "+-------+-------+-------+-------+-------+--------------+-----------------+-------+\n",
      "| STS12 | STS13 | STS14 | STS15 | STS16 | STSBenchmark | SICKRelatedness |  Avg. |\n",
      "+-------+-------+-------+-------+-------+--------------+-----------------+-------+\n",
      "| 71.47 | 81.41 | 74.47 | 83.45 | 78.99 |    78.68     |      72.44      | 77.27 |\n",
      "+-------+-------+-------+-------+-------+--------------+-----------------+-------+\n"
     ]
    }
   ],
   "source": [
    "sum_acc = evalModel(model,tokenizer, pooler = 'cls_before_pooler')"
   ]
  },
  {
   "cell_type": "markdown",
   "id": "8263c819",
   "metadata": {},
   "source": [
    "# 3. Eval Model on Transfer Task"
   ]
  },
  {
   "cell_type": "markdown",
   "id": "6b4f1911",
   "metadata": {},
   "source": [
    "## step 3.1 prepare model"
   ]
  },
  {
   "cell_type": "code",
   "execution_count": 1,
   "id": "3c6c68fe",
   "metadata": {},
   "outputs": [],
   "source": [
    "from mocose import *"
   ]
  },
  {
   "cell_type": "code",
   "execution_count": 2,
   "id": "29c54014",
   "metadata": {},
   "outputs": [],
   "source": [
    "model = MoCoSEModel.from_pretrained('F:\\\\trained_model\\\\77.27')"
   ]
  },
  {
   "cell_type": "code",
   "execution_count": 3,
   "id": "e3c44aae",
   "metadata": {},
   "outputs": [],
   "source": [
    "model = model.cuda()"
   ]
  },
  {
   "cell_type": "markdown",
   "id": "13961b37",
   "metadata": {},
   "source": [
    "## Step 3.2 evaluate model"
   ]
  },
  {
   "cell_type": "code",
   "execution_count": 4,
   "id": "b4a1c8f0",
   "metadata": {},
   "outputs": [],
   "source": [
    "from mocose_tools import *"
   ]
  },
  {
   "cell_type": "code",
   "execution_count": 5,
   "id": "edd90c3a",
   "metadata": {},
   "outputs": [],
   "source": [
    "from transformers import BertTokenizer"
   ]
  },
  {
   "cell_type": "code",
   "execution_count": 7,
   "id": "a2f34890",
   "metadata": {},
   "outputs": [],
   "source": [
    "tokenizer = BertTokenizer.from_pretrained('F:\\\\model\\\\bert-base-uncased')"
   ]
  },
  {
   "cell_type": "code",
   "execution_count": null,
   "id": "78b432d7",
   "metadata": {},
   "outputs": [
    {
     "name": "stderr",
     "output_type": "stream",
     "text": [
      "Asking to truncate to max_length but no maximum length is provided and the model has no predefined maximum length. Default to no truncation.\n"
     ]
    }
   ],
   "source": [
    "sum_acc = evalTransferModel(model,tokenizer, pooler = 'cls_before_pooler')"
   ]
  },
  {
   "cell_type": "code",
   "execution_count": null,
   "id": "7cb7d70d",
   "metadata": {},
   "outputs": [],
   "source": []
  }
 ],
 "metadata": {
  "kernelspec": {
   "display_name": "Python 3 (ipykernel)",
   "language": "python",
   "name": "python3"
  },
  "language_info": {
   "codemirror_mode": {
    "name": "ipython",
    "version": 3
   },
   "file_extension": ".py",
   "mimetype": "text/x-python",
   "name": "python",
   "nbconvert_exporter": "python",
   "pygments_lexer": "ipython3",
   "version": "3.8.8"
  }
 },
 "nbformat": 4,
 "nbformat_minor": 5
}
